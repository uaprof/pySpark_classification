{
  "nbformat": 4,
  "nbformat_minor": 0,
  "metadata": {
    "colab": {
      "name": "HomeWork. Vorontsov Vladimir. GeoLife modelling in pySpark. Single user",
      "provenance": [],
      "collapsed_sections": [],
      "toc_visible": true
    },
    "kernelspec": {
      "name": "python3",
      "display_name": "Python 3"
    }
  },
  "cells": [
    {
      "cell_type": "markdown",
      "metadata": {
        "id": "sq8U3BtmhtRx"
      },
      "source": [
        "\n",
        "# **Running Pyspark in Colab**"
      ]
    },
    {
      "cell_type": "markdown",
      "metadata": {
        "id": "ILheUROOhprv"
      },
      "source": [
        "Now that you installed Spark and Java in Colab, it is time to set the environment path which enables you to run Pyspark in your Colab environment. Set the location of Java and Spark by running the following code:"
      ]
    },
    {
      "cell_type": "markdown",
      "metadata": {
        "id": "KwrqMk3HiMiE"
      },
      "source": [
        "Run a local spark session to test your installation:"
      ]
    },
    {
      "cell_type": "code",
      "metadata": {
        "id": "RM0QratTEmQt",
        "colab": {
          "base_uri": "https://localhost:8080/"
        },
        "outputId": "2f4bc4a5-34a4-4b6c-d082-ad232718aeab"
      },
      "source": [
        "!apt-get install openjdk-8-jdk-headless -qq > /dev/null\n",
        "!wget -q https://downloads.apache.org/spark/spark-3.0.1/spark-3.0.1-bin-hadoop3.2.tgz\n",
        "!tar -xvf spark-3.0.1-bin-hadoop3.2.tgz\n",
        "!pip install -q findspark\n",
        "import os\n",
        "os.environ[\"JAVA_HOME\"] = \"/usr/lib/jvm/java-8-openjdk-amd64\"\n",
        "os.environ[\"SPARK_HOME\"] = \"/content/spark-3.0.1-bin-hadoop3.2\"\n",
        "import findspark\n",
        "findspark.init()"
      ],
      "execution_count": 68,
      "outputs": [
        {
          "output_type": "stream",
          "text": [
          ],
          "name": "stdout"
        }
      ]
    },
    {
      "cell_type": "code",
      "metadata": {
        "id": "u2iWsCTNFfU0"
      },
      "source": [
        "from pyspark.sql import SparkSession\n",
        "spark = SparkSession.builder.master(\"local[*]\").getOrCreate()"
      ],
      "execution_count": 69,
      "outputs": []
    },
    {
      "cell_type": "code",
      "metadata": {
        "id": "LYQp6-SiIS9j",
        "colab": {
          "base_uri": "https://localhost:8080/"
        },
        "outputId": "238eff24-66b0-48b0-92bc-af3acaedef71"
      },
      "source": [
        "import urllib\n",
        "import requests\n",
        "urllib.request.urlretrieve(\"https://download.microsoft.com/download/F/4/8/F4894AA5-FDBC-481E-9285-D5F8C4C4F039/Geolife%20Trajectories%201.3.zip\", \"/tmp/geo_raw.zip\")"
      ],
      "execution_count": 70,
      "outputs": [
        {
          "output_type": "execute_result",
          "data": {
            "text/plain": [
              "('/tmp/geo_raw.zip', <http.client.HTTPMessage at 0x7f7b96e7f278>)"
            ]
          },
          "metadata": {
            "tags": []
          },
          "execution_count": 70
        }
      ]
    },
    {
      "cell_type": "code",
      "metadata": {
        "id": "sFULei4cJVQV",
        "colab": {
          "base_uri": "https://localhost:8080/"
        },
        "outputId": "4c84c41a-3491-4430-9d9c-cc2bb7747960"
      },
      "source": [
        "%%sh\n",
        "unzip /tmp/geo_raw.zip"
      ],
      "execution_count": 71,
      "outputs": [
        {
          "output_type": "stream",
          "text": [
            "Archive:  /tmp/geo_raw.zip\n"
          ],
          "name": "stdout"
        },
        {
          "output_type": "stream",
          "text": [
            "replace Geolife Trajectories 1.3/Data/000/Trajectory/20081023025304.plt? [y]es, [n]o, [A]ll, [N]one, [r]ename:  NULL\n",
            "(EOF or read error, treating as \"[N]one\" ...)\n"
          ],
          "name": "stderr"
        }
      ]
    },
    {
      "cell_type": "markdown",
      "metadata": {
        "id": "UIvC2qfaEufI"
      },
      "source": [
        "# **Directory and file preprocessing**"
      ]
    },
    {
      "cell_type": "code",
      "metadata": {
        "id": "UXAfNDc8IMGN",
        "colab": {
          "base_uri": "https://localhost:8080/"
        },
        "outputId": "54c72ae9-1555-456c-cef3-fd990366d0eb"
      },
      "source": [
        "os.listdir(path=\"./Geolife Trajectories 1.3/Data/010\")\n",
        "\n",
        "from pathlib import Path\n",
        "import os\n",
        "\n",
        "mypath = \"./Geolife Trajectories 1.3/Data/\"\n",
        "\n",
        "dir_with_labels = []\n",
        "\n",
        "for directory in os.listdir(mypath):\n",
        "  label_file = Path(\"./Geolife Trajectories 1.3/Data/\"+directory+\"/labels.txt\")\n",
        "  if label_file.is_file():\n",
        "    dir_with_labels.append(directory)\n",
        "\n",
        "dir_with_labels.sort()\n",
        "print (dir_with_labels)\n",
        "len(dir_with_labels)"
      ],
      "execution_count": 72,
      "outputs": [
        {
          "output_type": "stream",
          "text": [
            "['010', '020', '021', '052', '053', '056', '058', '059', '060', '062', '064', '065', '067', '068', '069', '073', '075', '076', '078', '080', '081', '082', '084', '085', '086', '087', '088', '089', '091', '092', '096', '097', '098', '100', '101', '102', '104', '105', '106', '107', '108', '110', '111', '112', '114', '115', '116', '117', '118', '124', '125', '126', '128', '129', '136', '138', '139', '141', '144', '147', '153', '154', '161', '163', '167', '170', '174', '175', '179']\n"
          ],
          "name": "stdout"
        },
        {
          "output_type": "execute_result",
          "data": {
            "text/plain": [
              "69"
            ]
          },
          "metadata": {
            "tags": []
          },
          "execution_count": 72
        }
      ]
    },
    {
      "cell_type": "code",
      "metadata": {
        "id": "JKvmjueUMSmW",
        "colab": {
          "base_uri": "https://localhost:8080/",
          "height": 35
        },
        "outputId": "f30a5188-fa45-40eb-846b-35c1529f1613"
      },
      "source": [
        "# Pick a folder with User labled data and raw GPS data\n",
        "user_labled_num = 10\n",
        "\n",
        "path = \"./Geolife Trajectories 1.3/Data/\"\n",
        "first_dir = dir_with_labels[user_labled_num]\n",
        "\n",
        "dir_path = path + first_dir\n",
        "traject_path = dir_path+\"/Trajectory/\"\n",
        "os.listdir(path = traject_path)[0]\n",
        "\n",
        "#first_file = traject_path + os.listdir(path = traject_path)[0]\n",
        "first_file = traject_path + '*.plt'\n",
        "first_file"
      ],
      "execution_count": 73,
      "outputs": [
        {
          "output_type": "execute_result",
          "data": {
            "application/vnd.google.colaboratory.intrinsic+json": {
              "type": "string"
            },
            "text/plain": [
              "'./Geolife Trajectories 1.3/Data/064/Trajectory/*.plt'"
            ]
          },
          "metadata": {
            "tags": []
          },
          "execution_count": 73
        }
      ]
    },
    {
      "cell_type": "code",
      "metadata": {
        "id": "BF1XwwNKEvH6",
        "colab": {
          "base_uri": "https://localhost:8080/"
        },
        "outputId": "dc8dc1e0-612b-4596-c800-1a52d40f8dc7"
      },
      "source": [
        "file_location = first_file\n",
        "file_type = \"csv\"\n",
        "\n",
        "from pyspark.sql.types import LongType, StringType, StructField, StructType, BooleanType, ArrayType, IntegerType, DateType, DoubleType, TimestampType\n",
        "\n",
        "customSchema = StructType([\n",
        "    StructField(\"latitude\", DoubleType(), True),\n",
        "    StructField(\"longitude\", DoubleType(), True),\n",
        "    StructField(\"zero\", IntegerType(), True),\n",
        "    StructField(\"altitude\", DoubleType(), True),\n",
        "    StructField(\"datetype\", StringType(), True),\n",
        "    StructField(\"date\", StringType(), True),\n",
        "    StructField(\"time\", StringType(), True),\n",
        "])\n",
        "\n",
        "\n",
        "infer_schema = \"false\"\n",
        "first_row_is_header = \"false\"\n",
        "delimiter = \",\"\n",
        "\n",
        "df = spark.read.format(file_type) \\\n",
        "  .option(\"inferSchema\", infer_schema) \\\n",
        "  .option(\"header\", first_row_is_header) \\\n",
        "  .option(\"sep\", delimiter) \\\n",
        "  .schema(customSchema) \\\n",
        "  .load(file_location)\n",
        "\n",
        "\n",
        "df.printSchema\n",
        "df.show()\n",
        "df.count()"
      ],
      "execution_count": 74,
      "outputs": [
        {
          "output_type": "stream",
          "text": [
            "+---------+----------+----+--------+----------------+----------+--------+\n",
            "| latitude| longitude|zero|altitude|        datetype|      date|    time|\n",
            "+---------+----------+----+--------+----------------+----------+--------+\n",
            "|     null|      null|null|    null|            null|      null|    null|\n",
            "|     null|      null|null|    null|            null|      null|    null|\n",
            "|     null|      null|null|    null|            null|      null|    null|\n",
            "|     null|      null|null|    null|            null|      null|    null|\n",
            "|      0.0|       2.0| 255|    null|               0|         0|       2|\n",
            "|      0.0|      null|null|    null|            null|      null|    null|\n",
            "| 39.97572|116.331006|   0|   492.0|39689.3979861111|2008-08-29|09:33:06|\n",
            "|39.975729| 116.33103|   0|   492.0|39689.3980092593|2008-08-29|09:33:08|\n",
            "|39.975677|116.331086|   0|   492.0|39689.3980324074|2008-08-29|09:33:10|\n",
            "|39.975655|116.331083|   0|   492.0|39689.3980555556|2008-08-29|09:33:12|\n",
            "|39.975651|116.331097|   0|   491.0|39689.3980787037|2008-08-29|09:33:14|\n",
            "|39.975646|116.331101|   0|   492.0|39689.3981018519|2008-08-29|09:33:16|\n",
            "|39.975646|116.331093|   0|   492.0|    39689.398125|2008-08-29|09:33:18|\n",
            "|39.975647|116.331083|   0|   491.0|39689.3981481481|2008-08-29|09:33:20|\n",
            "|39.975662|116.331091|   0|   491.0|39689.3981712963|2008-08-29|09:33:22|\n",
            "|39.975347|116.330993|   0|    87.0|39689.3981944444|2008-08-29|09:33:24|\n",
            "|39.975346|116.331017|   0|   103.0|39689.3982175926|2008-08-29|09:33:26|\n",
            "|39.975352|116.330991|   0|   105.0|39689.3982407407|2008-08-29|09:33:28|\n",
            "|39.975367|116.330962|   0|   108.0|39689.3982638889|2008-08-29|09:33:30|\n",
            "|39.975379|116.330934|   0|   109.0| 39689.398287037|2008-08-29|09:33:32|\n",
            "+---------+----------+----+--------+----------------+----------+--------+\n",
            "only showing top 20 rows\n",
            "\n"
          ],
          "name": "stdout"
        },
        {
          "output_type": "execute_result",
          "data": {
            "text/plain": [
              "58892"
            ]
          },
          "metadata": {
            "tags": []
          },
          "execution_count": 74
        }
      ]
    },
    {
      "cell_type": "code",
      "metadata": {
        "id": "bGOAUF7muwAf",
        "colab": {
          "base_uri": "https://localhost:8080/"
        },
        "outputId": "f7a1a03c-6403-49df-a4ab-ef26879e20a1"
      },
      "source": [
        "dff = df.na.drop(how='any')\n",
        "dff.show()\n",
        "dff.count()"
      ],
      "execution_count": 75,
      "outputs": [
        {
          "output_type": "stream",
          "text": [
            "+---------+----------+----+--------+----------------+----------+--------+\n",
            "| latitude| longitude|zero|altitude|        datetype|      date|    time|\n",
            "+---------+----------+----+--------+----------------+----------+--------+\n",
            "| 39.97572|116.331006|   0|   492.0|39689.3979861111|2008-08-29|09:33:06|\n",
            "|39.975729| 116.33103|   0|   492.0|39689.3980092593|2008-08-29|09:33:08|\n",
            "|39.975677|116.331086|   0|   492.0|39689.3980324074|2008-08-29|09:33:10|\n",
            "|39.975655|116.331083|   0|   492.0|39689.3980555556|2008-08-29|09:33:12|\n",
            "|39.975651|116.331097|   0|   491.0|39689.3980787037|2008-08-29|09:33:14|\n",
            "|39.975646|116.331101|   0|   492.0|39689.3981018519|2008-08-29|09:33:16|\n",
            "|39.975646|116.331093|   0|   492.0|    39689.398125|2008-08-29|09:33:18|\n",
            "|39.975647|116.331083|   0|   491.0|39689.3981481481|2008-08-29|09:33:20|\n",
            "|39.975662|116.331091|   0|   491.0|39689.3981712963|2008-08-29|09:33:22|\n",
            "|39.975347|116.330993|   0|    87.0|39689.3981944444|2008-08-29|09:33:24|\n",
            "|39.975346|116.331017|   0|   103.0|39689.3982175926|2008-08-29|09:33:26|\n",
            "|39.975352|116.330991|   0|   105.0|39689.3982407407|2008-08-29|09:33:28|\n",
            "|39.975367|116.330962|   0|   108.0|39689.3982638889|2008-08-29|09:33:30|\n",
            "|39.975379|116.330934|   0|   109.0| 39689.398287037|2008-08-29|09:33:32|\n",
            "|39.975375|  116.3309|   0|   111.0|39689.3983101852|2008-08-29|09:33:34|\n",
            "|39.975373|116.330857|   0|   112.0|39689.3983333333|2008-08-29|09:33:36|\n",
            "|39.975374|116.330824|   0|   114.0|39689.3983564815|2008-08-29|09:33:38|\n",
            "|39.975369| 116.33078|   0|   115.0|39689.3983796296|2008-08-29|09:33:40|\n",
            "|39.975379| 116.33073|   0|   119.0|39689.3984027778|2008-08-29|09:33:42|\n",
            "|39.975417|116.330637|   0|   121.0|39689.3984259259|2008-08-29|09:33:44|\n",
            "+---------+----------+----+--------+----------------+----------+--------+\n",
            "only showing top 20 rows\n",
            "\n"
          ],
          "name": "stdout"
        },
        {
          "output_type": "execute_result",
          "data": {
            "text/plain": [
              "58754"
            ]
          },
          "metadata": {
            "tags": []
          },
          "execution_count": 75
        }
      ]
    },
    {
      "cell_type": "markdown",
      "metadata": {
        "id": "EpXimJ0QFQYg"
      },
      "source": [
        "# **Data cleaning and data managment**"
      ]
    },
    {
      "cell_type": "code",
      "metadata": {
        "id": "6QeedJ2cNATv",
        "colab": {
          "base_uri": "https://localhost:8080/"
        },
        "outputId": "d38dd9e9-2b3b-49c7-9037-ec17a7a5c2ed"
      },
      "source": [
        "dff=dff.drop('zero')\n",
        "dff.show()"
      ],
      "execution_count": 76,
      "outputs": [
        {
          "output_type": "stream",
          "text": [
            "+---------+----------+--------+----------------+----------+--------+\n",
            "| latitude| longitude|altitude|        datetype|      date|    time|\n",
            "+---------+----------+--------+----------------+----------+--------+\n",
            "| 39.97572|116.331006|   492.0|39689.3979861111|2008-08-29|09:33:06|\n",
            "|39.975729| 116.33103|   492.0|39689.3980092593|2008-08-29|09:33:08|\n",
            "|39.975677|116.331086|   492.0|39689.3980324074|2008-08-29|09:33:10|\n",
            "|39.975655|116.331083|   492.0|39689.3980555556|2008-08-29|09:33:12|\n",
            "|39.975651|116.331097|   491.0|39689.3980787037|2008-08-29|09:33:14|\n",
            "|39.975646|116.331101|   492.0|39689.3981018519|2008-08-29|09:33:16|\n",
            "|39.975646|116.331093|   492.0|    39689.398125|2008-08-29|09:33:18|\n",
            "|39.975647|116.331083|   491.0|39689.3981481481|2008-08-29|09:33:20|\n",
            "|39.975662|116.331091|   491.0|39689.3981712963|2008-08-29|09:33:22|\n",
            "|39.975347|116.330993|    87.0|39689.3981944444|2008-08-29|09:33:24|\n",
            "|39.975346|116.331017|   103.0|39689.3982175926|2008-08-29|09:33:26|\n",
            "|39.975352|116.330991|   105.0|39689.3982407407|2008-08-29|09:33:28|\n",
            "|39.975367|116.330962|   108.0|39689.3982638889|2008-08-29|09:33:30|\n",
            "|39.975379|116.330934|   109.0| 39689.398287037|2008-08-29|09:33:32|\n",
            "|39.975375|  116.3309|   111.0|39689.3983101852|2008-08-29|09:33:34|\n",
            "|39.975373|116.330857|   112.0|39689.3983333333|2008-08-29|09:33:36|\n",
            "|39.975374|116.330824|   114.0|39689.3983564815|2008-08-29|09:33:38|\n",
            "|39.975369| 116.33078|   115.0|39689.3983796296|2008-08-29|09:33:40|\n",
            "|39.975379| 116.33073|   119.0|39689.3984027778|2008-08-29|09:33:42|\n",
            "|39.975417|116.330637|   121.0|39689.3984259259|2008-08-29|09:33:44|\n",
            "+---------+----------+--------+----------------+----------+--------+\n",
            "only showing top 20 rows\n",
            "\n"
          ],
          "name": "stdout"
        }
      ]
    },
    {
      "cell_type": "code",
      "metadata": {
        "colab": {
          "base_uri": "https://localhost:8080/"
        },
        "id": "eGWF5oAmOlrW",
        "outputId": "84a241a7-7139-46d5-933f-5d8316bcdb1c"
      },
      "source": [
        "from pyspark.sql.functions import concat, col, lit\n",
        "\n",
        "dfft = dff.withColumn('timedate', concat(dff.date.cast(\"string\"), lit(\" \"), dff.time.cast(\"string\")))\n",
        "dfft.show()"
      ],
      "execution_count": 77,
      "outputs": [
        {
          "output_type": "stream",
          "text": [
            "+---------+----------+--------+----------------+----------+--------+-------------------+\n",
            "| latitude| longitude|altitude|        datetype|      date|    time|           timedate|\n",
            "+---------+----------+--------+----------------+----------+--------+-------------------+\n",
            "| 39.97572|116.331006|   492.0|39689.3979861111|2008-08-29|09:33:06|2008-08-29 09:33:06|\n",
            "|39.975729| 116.33103|   492.0|39689.3980092593|2008-08-29|09:33:08|2008-08-29 09:33:08|\n",
            "|39.975677|116.331086|   492.0|39689.3980324074|2008-08-29|09:33:10|2008-08-29 09:33:10|\n",
            "|39.975655|116.331083|   492.0|39689.3980555556|2008-08-29|09:33:12|2008-08-29 09:33:12|\n",
            "|39.975651|116.331097|   491.0|39689.3980787037|2008-08-29|09:33:14|2008-08-29 09:33:14|\n",
            "|39.975646|116.331101|   492.0|39689.3981018519|2008-08-29|09:33:16|2008-08-29 09:33:16|\n",
            "|39.975646|116.331093|   492.0|    39689.398125|2008-08-29|09:33:18|2008-08-29 09:33:18|\n",
            "|39.975647|116.331083|   491.0|39689.3981481481|2008-08-29|09:33:20|2008-08-29 09:33:20|\n",
            "|39.975662|116.331091|   491.0|39689.3981712963|2008-08-29|09:33:22|2008-08-29 09:33:22|\n",
            "|39.975347|116.330993|    87.0|39689.3981944444|2008-08-29|09:33:24|2008-08-29 09:33:24|\n",
            "|39.975346|116.331017|   103.0|39689.3982175926|2008-08-29|09:33:26|2008-08-29 09:33:26|\n",
            "|39.975352|116.330991|   105.0|39689.3982407407|2008-08-29|09:33:28|2008-08-29 09:33:28|\n",
            "|39.975367|116.330962|   108.0|39689.3982638889|2008-08-29|09:33:30|2008-08-29 09:33:30|\n",
            "|39.975379|116.330934|   109.0| 39689.398287037|2008-08-29|09:33:32|2008-08-29 09:33:32|\n",
            "|39.975375|  116.3309|   111.0|39689.3983101852|2008-08-29|09:33:34|2008-08-29 09:33:34|\n",
            "|39.975373|116.330857|   112.0|39689.3983333333|2008-08-29|09:33:36|2008-08-29 09:33:36|\n",
            "|39.975374|116.330824|   114.0|39689.3983564815|2008-08-29|09:33:38|2008-08-29 09:33:38|\n",
            "|39.975369| 116.33078|   115.0|39689.3983796296|2008-08-29|09:33:40|2008-08-29 09:33:40|\n",
            "|39.975379| 116.33073|   119.0|39689.3984027778|2008-08-29|09:33:42|2008-08-29 09:33:42|\n",
            "|39.975417|116.330637|   121.0|39689.3984259259|2008-08-29|09:33:44|2008-08-29 09:33:44|\n",
            "+---------+----------+--------+----------------+----------+--------+-------------------+\n",
            "only showing top 20 rows\n",
            "\n"
          ],
          "name": "stdout"
        }
      ]
    },
    {
      "cell_type": "code",
      "metadata": {
        "colab": {
          "base_uri": "https://localhost:8080/"
        },
        "id": "vjX1IPEgR8OI",
        "outputId": "7ed628d8-6d9c-408f-d8a0-b3c55967d28e"
      },
      "source": [
        "dfft = dfft.drop('datetype', 'date', 'time')\n",
        "dfft.show()"
      ],
      "execution_count": 78,
      "outputs": [
        {
          "output_type": "stream",
          "text": [
            "+---------+----------+--------+-------------------+\n",
            "| latitude| longitude|altitude|           timedate|\n",
            "+---------+----------+--------+-------------------+\n",
            "| 39.97572|116.331006|   492.0|2008-08-29 09:33:06|\n",
            "|39.975729| 116.33103|   492.0|2008-08-29 09:33:08|\n",
            "|39.975677|116.331086|   492.0|2008-08-29 09:33:10|\n",
            "|39.975655|116.331083|   492.0|2008-08-29 09:33:12|\n",
            "|39.975651|116.331097|   491.0|2008-08-29 09:33:14|\n",
            "|39.975646|116.331101|   492.0|2008-08-29 09:33:16|\n",
            "|39.975646|116.331093|   492.0|2008-08-29 09:33:18|\n",
            "|39.975647|116.331083|   491.0|2008-08-29 09:33:20|\n",
            "|39.975662|116.331091|   491.0|2008-08-29 09:33:22|\n",
            "|39.975347|116.330993|    87.0|2008-08-29 09:33:24|\n",
            "|39.975346|116.331017|   103.0|2008-08-29 09:33:26|\n",
            "|39.975352|116.330991|   105.0|2008-08-29 09:33:28|\n",
            "|39.975367|116.330962|   108.0|2008-08-29 09:33:30|\n",
            "|39.975379|116.330934|   109.0|2008-08-29 09:33:32|\n",
            "|39.975375|  116.3309|   111.0|2008-08-29 09:33:34|\n",
            "|39.975373|116.330857|   112.0|2008-08-29 09:33:36|\n",
            "|39.975374|116.330824|   114.0|2008-08-29 09:33:38|\n",
            "|39.975369| 116.33078|   115.0|2008-08-29 09:33:40|\n",
            "|39.975379| 116.33073|   119.0|2008-08-29 09:33:42|\n",
            "|39.975417|116.330637|   121.0|2008-08-29 09:33:44|\n",
            "+---------+----------+--------+-------------------+\n",
            "only showing top 20 rows\n",
            "\n"
          ],
          "name": "stdout"
        }
      ]
    },
    {
      "cell_type": "code",
      "metadata": {
        "colab": {
          "base_uri": "https://localhost:8080/"
        },
        "id": "mVuYExn1SVXb",
        "outputId": "c2f244ac-c7f0-4bad-f896-8f6d14a345e5"
      },
      "source": [
        "dfft = dfft.withColumn(\"user\", lit(first_dir))\n",
        "dfft.show()"
      ],
      "execution_count": 79,
      "outputs": [
        {
          "output_type": "stream",
          "text": [
            "+---------+----------+--------+-------------------+----+\n",
            "| latitude| longitude|altitude|           timedate|user|\n",
            "+---------+----------+--------+-------------------+----+\n",
            "| 39.97572|116.331006|   492.0|2008-08-29 09:33:06| 064|\n",
            "|39.975729| 116.33103|   492.0|2008-08-29 09:33:08| 064|\n",
            "|39.975677|116.331086|   492.0|2008-08-29 09:33:10| 064|\n",
            "|39.975655|116.331083|   492.0|2008-08-29 09:33:12| 064|\n",
            "|39.975651|116.331097|   491.0|2008-08-29 09:33:14| 064|\n",
            "|39.975646|116.331101|   492.0|2008-08-29 09:33:16| 064|\n",
            "|39.975646|116.331093|   492.0|2008-08-29 09:33:18| 064|\n",
            "|39.975647|116.331083|   491.0|2008-08-29 09:33:20| 064|\n",
            "|39.975662|116.331091|   491.0|2008-08-29 09:33:22| 064|\n",
            "|39.975347|116.330993|    87.0|2008-08-29 09:33:24| 064|\n",
            "|39.975346|116.331017|   103.0|2008-08-29 09:33:26| 064|\n",
            "|39.975352|116.330991|   105.0|2008-08-29 09:33:28| 064|\n",
            "|39.975367|116.330962|   108.0|2008-08-29 09:33:30| 064|\n",
            "|39.975379|116.330934|   109.0|2008-08-29 09:33:32| 064|\n",
            "|39.975375|  116.3309|   111.0|2008-08-29 09:33:34| 064|\n",
            "|39.975373|116.330857|   112.0|2008-08-29 09:33:36| 064|\n",
            "|39.975374|116.330824|   114.0|2008-08-29 09:33:38| 064|\n",
            "|39.975369| 116.33078|   115.0|2008-08-29 09:33:40| 064|\n",
            "|39.975379| 116.33073|   119.0|2008-08-29 09:33:42| 064|\n",
            "|39.975417|116.330637|   121.0|2008-08-29 09:33:44| 064|\n",
            "+---------+----------+--------+-------------------+----+\n",
            "only showing top 20 rows\n",
            "\n"
          ],
          "name": "stdout"
        }
      ]
    },
    {
      "cell_type": "code",
      "metadata": {
        "id": "aiyKlMHWNAbm",
        "colab": {
          "base_uri": "https://localhost:8080/"
        },
        "outputId": "bcfbfdbc-ca1b-43f0-9782-725df4121173"
      },
      "source": [
        "first_labels = dir_path +'/labels.txt'\n",
        "file_type = \"csv\"\n",
        "\n",
        "customSchema = StructType([\n",
        "    StructField(\"start_time\", StringType(), True),\n",
        "    StructField(\"end_time\", StringType(), True),\n",
        "    StructField(\"mode\", StringType(), True),\n",
        "])\n",
        "\n",
        "infer_schema = \"false\"\n",
        "first_row_is_header = \"true\"\n",
        "delimiter = \"\t\"\n",
        "\n",
        "dfl = spark.read.format(file_type) \\\n",
        "  .option(\"inferSchema\", infer_schema) \\\n",
        "  .option(\"header\", first_row_is_header) \\\n",
        "  .option(\"sep\", delimiter) \\\n",
        "  .schema(customSchema) \\\n",
        "  .load(first_labels)\n",
        "\n",
        "dfl.show()\n",
        "dfl.count()"
      ],
      "execution_count": 80,
      "outputs": [
        {
          "output_type": "stream",
          "text": [
            "+-------------------+-------------------+----+\n",
            "|         start_time|           end_time|mode|\n",
            "+-------------------+-------------------+----+\n",
            "|2008/08/15 07:47:00|2008/08/15 08:02:22|walk|\n",
            "|2008/08/15 08:02:23|2008/08/15 08:18:23| bus|\n",
            "|2008/08/15 08:18:24|2008/08/15 08:24:01|walk|\n",
            "|2008/08/16 00:17:00|2008/08/16 00:27:20| bus|\n",
            "|2008/08/16 00:27:21|2008/08/16 00:59:10|walk|\n",
            "|2008/08/16 06:18:59|2008/08/16 06:20:57| bus|\n",
            "|2008/08/16 06:20:58|2008/08/16 06:54:18|walk|\n",
            "|2008/08/16 06:54:19|2008/08/16 07:09:44| bus|\n",
            "|2008/08/16 07:09:45|2008/08/16 09:33:04|walk|\n",
            "|2008/08/16 09:33:05|2008/08/16 09:56:54| bus|\n",
            "|2008/08/16 11:57:36|2008/08/16 12:19:42| bus|\n",
            "|2008/08/16 12:19:43|2008/08/16 12:31:18|bike|\n",
            "|2008/08/16 12:31:19|2008/08/16 12:52:08|walk|\n",
            "|2008/08/16 23:53:35|2008/08/17 00:00:33|walk|\n",
            "|2008/08/17 00:00:34|2008/08/17 00:21:26| bus|\n",
            "|2008/08/17 00:21:27|2008/08/17 00:58:27|walk|\n",
            "|2008/08/17 06:20:06|2008/08/17 06:30:16| bus|\n",
            "|2008/08/17 06:30:17|2008/08/17 07:57:00|walk|\n",
            "|2008/08/17 07:57:01|2008/08/17 08:34:44|walk|\n",
            "|2008/08/17 11:04:59|2008/08/17 11:25:39| bus|\n",
            "+-------------------+-------------------+----+\n",
            "only showing top 20 rows\n",
            "\n"
          ],
          "name": "stdout"
        },
        {
          "output_type": "execute_result",
          "data": {
            "text/plain": [
              "68"
            ]
          },
          "metadata": {
            "tags": []
          },
          "execution_count": 80
        }
      ]
    },
    {
      "cell_type": "code",
      "metadata": {
        "id": "zgV4zh09EPfO"
      },
      "source": [
        "from pyspark.sql.functions import row_number,lit\n",
        "from pyspark.sql.window import Window\n",
        "\n",
        "w = Window().orderBy(lit('A'))\n",
        "\n",
        "dfl = dfl.withColumn(\"traject_id\", row_number().over(w))"
      ],
      "execution_count": 81,
      "outputs": []
    },
    {
      "cell_type": "code",
      "metadata": {
        "colab": {
          "base_uri": "https://localhost:8080/"
        },
        "id": "80ZFlK0WEPXg",
        "outputId": "1785fb4b-e694-4597-8ed0-c6f392d68d6c"
      },
      "source": [
        "dfl.show()"
      ],
      "execution_count": 82,
      "outputs": [
        {
          "output_type": "stream",
          "text": [
            "+-------------------+-------------------+----+----------+\n",
            "|         start_time|           end_time|mode|traject_id|\n",
            "+-------------------+-------------------+----+----------+\n",
            "|2008/08/15 07:47:00|2008/08/15 08:02:22|walk|         1|\n",
            "|2008/08/15 08:02:23|2008/08/15 08:18:23| bus|         2|\n",
            "|2008/08/15 08:18:24|2008/08/15 08:24:01|walk|         3|\n",
            "|2008/08/16 00:17:00|2008/08/16 00:27:20| bus|         4|\n",
            "|2008/08/16 00:27:21|2008/08/16 00:59:10|walk|         5|\n",
            "|2008/08/16 06:18:59|2008/08/16 06:20:57| bus|         6|\n",
            "|2008/08/16 06:20:58|2008/08/16 06:54:18|walk|         7|\n",
            "|2008/08/16 06:54:19|2008/08/16 07:09:44| bus|         8|\n",
            "|2008/08/16 07:09:45|2008/08/16 09:33:04|walk|         9|\n",
            "|2008/08/16 09:33:05|2008/08/16 09:56:54| bus|        10|\n",
            "|2008/08/16 11:57:36|2008/08/16 12:19:42| bus|        11|\n",
            "|2008/08/16 12:19:43|2008/08/16 12:31:18|bike|        12|\n",
            "|2008/08/16 12:31:19|2008/08/16 12:52:08|walk|        13|\n",
            "|2008/08/16 23:53:35|2008/08/17 00:00:33|walk|        14|\n",
            "|2008/08/17 00:00:34|2008/08/17 00:21:26| bus|        15|\n",
            "|2008/08/17 00:21:27|2008/08/17 00:58:27|walk|        16|\n",
            "|2008/08/17 06:20:06|2008/08/17 06:30:16| bus|        17|\n",
            "|2008/08/17 06:30:17|2008/08/17 07:57:00|walk|        18|\n",
            "|2008/08/17 07:57:01|2008/08/17 08:34:44|walk|        19|\n",
            "|2008/08/17 11:04:59|2008/08/17 11:25:39| bus|        20|\n",
            "+-------------------+-------------------+----+----------+\n",
            "only showing top 20 rows\n",
            "\n"
          ],
          "name": "stdout"
        }
      ]
    },
    {
      "cell_type": "code",
      "metadata": {
        "id": "hsbwzN1T_e2D"
      },
      "source": [
        "from datetime import datetime\n",
        "from pyspark.sql.functions import col, udf\n",
        "from pyspark.sql.types import DoubleType\n",
        "\n",
        "def timetotimestamp (string1) : \n",
        "  s = datetime.strptime(string1, \"%Y-%m-%d %H:%M:%S\")\n",
        "  return datetime.timestamp(s)\n",
        "\n",
        "udftimetotimestamp = udf(lambda x:timetotimestamp(x), DoubleType())"
      ],
      "execution_count": 83,
      "outputs": []
    },
    {
      "cell_type": "code",
      "metadata": {
        "colab": {
          "base_uri": "https://localhost:8080/"
        },
        "id": "e3li_DY8_esN",
        "outputId": "a5dd0d62-563c-414c-d6f4-27ac74456ae7"
      },
      "source": [
        "dfft = dfft.withColumn(\"date_timestamp\", udftimetotimestamp('timedate'))\n",
        "dfft.show()"
      ],
      "execution_count": 84,
      "outputs": [
        {
          "output_type": "stream",
          "text": [
            "+---------+----------+--------+-------------------+----+--------------+\n",
            "| latitude| longitude|altitude|           timedate|user|date_timestamp|\n",
            "+---------+----------+--------+-------------------+----+--------------+\n",
            "| 39.97572|116.331006|   492.0|2008-08-29 09:33:06| 064| 1.220002386E9|\n",
            "|39.975729| 116.33103|   492.0|2008-08-29 09:33:08| 064| 1.220002388E9|\n",
            "|39.975677|116.331086|   492.0|2008-08-29 09:33:10| 064|  1.22000239E9|\n",
            "|39.975655|116.331083|   492.0|2008-08-29 09:33:12| 064| 1.220002392E9|\n",
            "|39.975651|116.331097|   491.0|2008-08-29 09:33:14| 064| 1.220002394E9|\n",
            "|39.975646|116.331101|   492.0|2008-08-29 09:33:16| 064| 1.220002396E9|\n",
            "|39.975646|116.331093|   492.0|2008-08-29 09:33:18| 064| 1.220002398E9|\n",
            "|39.975647|116.331083|   491.0|2008-08-29 09:33:20| 064|   1.2200024E9|\n",
            "|39.975662|116.331091|   491.0|2008-08-29 09:33:22| 064| 1.220002402E9|\n",
            "|39.975347|116.330993|    87.0|2008-08-29 09:33:24| 064| 1.220002404E9|\n",
            "|39.975346|116.331017|   103.0|2008-08-29 09:33:26| 064| 1.220002406E9|\n",
            "|39.975352|116.330991|   105.0|2008-08-29 09:33:28| 064| 1.220002408E9|\n",
            "|39.975367|116.330962|   108.0|2008-08-29 09:33:30| 064|  1.22000241E9|\n",
            "|39.975379|116.330934|   109.0|2008-08-29 09:33:32| 064| 1.220002412E9|\n",
            "|39.975375|  116.3309|   111.0|2008-08-29 09:33:34| 064| 1.220002414E9|\n",
            "|39.975373|116.330857|   112.0|2008-08-29 09:33:36| 064| 1.220002416E9|\n",
            "|39.975374|116.330824|   114.0|2008-08-29 09:33:38| 064| 1.220002418E9|\n",
            "|39.975369| 116.33078|   115.0|2008-08-29 09:33:40| 064|  1.22000242E9|\n",
            "|39.975379| 116.33073|   119.0|2008-08-29 09:33:42| 064| 1.220002422E9|\n",
            "|39.975417|116.330637|   121.0|2008-08-29 09:33:44| 064| 1.220002424E9|\n",
            "+---------+----------+--------+-------------------+----+--------------+\n",
            "only showing top 20 rows\n",
            "\n"
          ],
          "name": "stdout"
        }
      ]
    },
    {
      "cell_type": "code",
      "metadata": {
        "id": "unkq_RYd_eag"
      },
      "source": [
        "def timetotimestampl (string1) : \n",
        "  s = datetime.strptime(string1, \"%Y/%m/%d %H:%M:%S\")\n",
        "  return datetime.timestamp(s)\n",
        "\n",
        "udftimetotimestampl = udf(lambda x:timetotimestampl(x), DoubleType())\n"
      ],
      "execution_count": 85,
      "outputs": []
    },
    {
      "cell_type": "code",
      "metadata": {
        "id": "in_GyhWSeq2B",
        "colab": {
          "base_uri": "https://localhost:8080/"
        },
        "outputId": "a61e0192-c857-446b-bb00-f53bc04dc4be"
      },
      "source": [
        "dfl = dfl.withColumn(\"start_time_conv\", udftimetotimestampl('start_time'))\n",
        "dfl = dfl.withColumn(\"end_time_conv\", udftimetotimestampl('end_time'))\n",
        "dfl.show()"
      ],
      "execution_count": 86,
      "outputs": [
        {
          "output_type": "stream",
          "text": [
            "+-------------------+-------------------+----+----------+---------------+-------------+\n",
            "|         start_time|           end_time|mode|traject_id|start_time_conv|end_time_conv|\n",
            "+-------------------+-------------------+----+----------+---------------+-------------+\n",
            "|2008/08/15 07:47:00|2008/08/15 08:02:22|walk|         1|   1.21878642E9|1.218787342E9|\n",
            "|2008/08/15 08:02:23|2008/08/15 08:18:23| bus|         2|  1.218787343E9|1.218788303E9|\n",
            "|2008/08/15 08:18:24|2008/08/15 08:24:01|walk|         3|  1.218788304E9|1.218788641E9|\n",
            "|2008/08/16 00:17:00|2008/08/16 00:27:20| bus|         4|   1.21884582E9| 1.21884644E9|\n",
            "|2008/08/16 00:27:21|2008/08/16 00:59:10|walk|         5|  1.218846441E9| 1.21884835E9|\n",
            "|2008/08/16 06:18:59|2008/08/16 06:20:57| bus|         6|  1.218867539E9|1.218867657E9|\n",
            "|2008/08/16 06:20:58|2008/08/16 06:54:18|walk|         7|  1.218867658E9|1.218869658E9|\n",
            "|2008/08/16 06:54:19|2008/08/16 07:09:44| bus|         8|  1.218869659E9|1.218870584E9|\n",
            "|2008/08/16 07:09:45|2008/08/16 09:33:04|walk|         9|  1.218870585E9|1.218879184E9|\n",
            "|2008/08/16 09:33:05|2008/08/16 09:56:54| bus|        10|  1.218879185E9|1.218880614E9|\n",
            "|2008/08/16 11:57:36|2008/08/16 12:19:42| bus|        11|  1.218887856E9|1.218889182E9|\n",
            "|2008/08/16 12:19:43|2008/08/16 12:31:18|bike|        12|  1.218889183E9|1.218889878E9|\n",
            "|2008/08/16 12:31:19|2008/08/16 12:52:08|walk|        13|  1.218889879E9|1.218891128E9|\n",
            "|2008/08/16 23:53:35|2008/08/17 00:00:33|walk|        14|  1.218930815E9|1.218931233E9|\n",
            "|2008/08/17 00:00:34|2008/08/17 00:21:26| bus|        15|  1.218931234E9|1.218932486E9|\n",
            "|2008/08/17 00:21:27|2008/08/17 00:58:27|walk|        16|  1.218932487E9|1.218934707E9|\n",
            "|2008/08/17 06:20:06|2008/08/17 06:30:16| bus|        17|  1.218954006E9|1.218954616E9|\n",
            "|2008/08/17 06:30:17|2008/08/17 07:57:00|walk|        18|  1.218954617E9| 1.21895982E9|\n",
            "|2008/08/17 07:57:01|2008/08/17 08:34:44|walk|        19|  1.218959821E9|1.218962084E9|\n",
            "|2008/08/17 11:04:59|2008/08/17 11:25:39| bus|        20|  1.218971099E9|1.218972339E9|\n",
            "+-------------------+-------------------+----+----------+---------------+-------------+\n",
            "only showing top 20 rows\n",
            "\n"
          ],
          "name": "stdout"
        }
      ]
    },
    {
      "cell_type": "markdown",
      "metadata": {
        "id": "ff-hFoseyRUN"
      },
      "source": [
        "files=glob.glob(path +'*.csv')\n",
        "\n",
        "for idx,f in enumerate(files):\n",
        "    if idx == 0:\n",
        "        df = spark.read.csv(f,header=True,inferSchema=True)\n",
        "        dff = df\n",
        "    else:\n",
        "        df = spark.read.csv(f,header=True,inferSchema=True)\n",
        "        dff=dff.unionAll(df)"
      ]
    },
    {
      "cell_type": "code",
      "metadata": {
        "colab": {
          "base_uri": "https://localhost:8080/"
        },
        "id": "vsf-tyVV2uZb",
        "outputId": "5307283b-e124-4336-f62a-22b6f4c8dd59"
      },
      "source": [
        "cond = [(dfft.date_timestamp >= dfl.start_time_conv) & (dfft.date_timestamp <= dfl.end_time_conv)]\n",
        "joi = dfft.join(dfl, cond, 'inner').select(dfft.latitude, dfft.longitude,\n",
        "                                           dfft.altitude,\n",
        "                                           dfft.timedate,\n",
        "                                           dfft.date_timestamp,  \n",
        "                                           #dfl.start_time, \n",
        "                                           #dfl.end_time, \n",
        "                                           dfl.mode,\n",
        "                                           dfft.user,\n",
        "                                           dfl.traject_id, \n",
        "                                           )\n",
        "joi.show()\n",
        "joi.count()"
      ],
      "execution_count": 87,
      "outputs": [
        {
          "output_type": "stream",
          "text": [
            "+---------+----------+--------+-------------------+--------------+----+----+----------+\n",
            "| latitude| longitude|altitude|           timedate|date_timestamp|mode|user|traject_id|\n",
            "+---------+----------+--------+-------------------+--------------+----+----+----------+\n",
            "| 39.97572|116.331006|   492.0|2008-08-29 09:33:06| 1.220002386E9|bike| 064|        63|\n",
            "|39.975729| 116.33103|   492.0|2008-08-29 09:33:08| 1.220002388E9|bike| 064|        63|\n",
            "|39.975677|116.331086|   492.0|2008-08-29 09:33:10|  1.22000239E9|bike| 064|        63|\n",
            "|39.975655|116.331083|   492.0|2008-08-29 09:33:12| 1.220002392E9|bike| 064|        63|\n",
            "|39.975651|116.331097|   491.0|2008-08-29 09:33:14| 1.220002394E9|bike| 064|        63|\n",
            "|39.975646|116.331101|   492.0|2008-08-29 09:33:16| 1.220002396E9|bike| 064|        63|\n",
            "|39.975646|116.331093|   492.0|2008-08-29 09:33:18| 1.220002398E9|bike| 064|        63|\n",
            "|39.975647|116.331083|   491.0|2008-08-29 09:33:20|   1.2200024E9|bike| 064|        63|\n",
            "|39.975662|116.331091|   491.0|2008-08-29 09:33:22| 1.220002402E9|bike| 064|        63|\n",
            "|39.975347|116.330993|    87.0|2008-08-29 09:33:24| 1.220002404E9|bike| 064|        63|\n",
            "|39.975346|116.331017|   103.0|2008-08-29 09:33:26| 1.220002406E9|bike| 064|        63|\n",
            "|39.975352|116.330991|   105.0|2008-08-29 09:33:28| 1.220002408E9|bike| 064|        63|\n",
            "|39.975367|116.330962|   108.0|2008-08-29 09:33:30|  1.22000241E9|bike| 064|        63|\n",
            "|39.975379|116.330934|   109.0|2008-08-29 09:33:32| 1.220002412E9|bike| 064|        63|\n",
            "|39.975375|  116.3309|   111.0|2008-08-29 09:33:34| 1.220002414E9|bike| 064|        63|\n",
            "|39.975373|116.330857|   112.0|2008-08-29 09:33:36| 1.220002416E9|bike| 064|        63|\n",
            "|39.975374|116.330824|   114.0|2008-08-29 09:33:38| 1.220002418E9|bike| 064|        63|\n",
            "|39.975369| 116.33078|   115.0|2008-08-29 09:33:40|  1.22000242E9|bike| 064|        63|\n",
            "|39.975379| 116.33073|   119.0|2008-08-29 09:33:42| 1.220002422E9|bike| 064|        63|\n",
            "|39.975417|116.330637|   121.0|2008-08-29 09:33:44| 1.220002424E9|bike| 064|        63|\n",
            "+---------+----------+--------+-------------------+--------------+----+----+----------+\n",
            "only showing top 20 rows\n",
            "\n"
          ],
          "name": "stdout"
        },
        {
          "output_type": "execute_result",
          "data": {
            "text/plain": [
              "37682"
            ]
          },
          "metadata": {
            "tags": []
          },
          "execution_count": 87
        }
      ]
    },
    {
      "cell_type": "code",
      "metadata": {
        "id": "k2K9Nx8w-q12"
      },
      "source": [
        "#joi.coalesce(1).write.csv(\"joi_new.csv\", header = True)"
      ],
      "execution_count": 88,
      "outputs": []
    },
    {
      "cell_type": "code",
      "metadata": {
        "id": "fpUmyV69w3E9"
      },
      "source": [
        "#data = joi.take(10)\n",
        "#columns = joi.columns\n",
        "#test10 = spark.createDataFrame(data = data, schema = columns)\n",
        "#test10.show(truncate=False)\n"
      ],
      "execution_count": 89,
      "outputs": []
    },
    {
      "cell_type": "code",
      "metadata": {
        "id": "R5Q9IrxtFYTO"
      },
      "source": [
        "from pyspark.sql.window import Window\n",
        "import pyspark.sql.functions as func\n",
        "from pyspark.sql.functions import lit\n",
        "from pyspark.sql.functions import lag   \n",
        "\n",
        "#test10 = test10.withColumn('prev_period_lat', lag('latitude', 1).over(Window.orderBy(\"traject_id\").partitionBy(\"traject_id\"))) \\\n",
        "#                .withColumn('prev_period_long', lag('longitude', 1).over(Window.orderBy(\"traject_id\").partitionBy(\"traject_id\"))) \\\n",
        "#                .withColumn('prev_period_alt', lag('altitude', 1).over(Window.orderBy(\"traject_id\").partitionBy(\"traject_id\"))) \\\n",
        "#                .withColumn('prev_period_td', lag('date_timestamp', 1).over(Window.orderBy(\"traject_id\").partitionBy(\"traject_id\"))).na.drop() \n",
        "\n",
        "\n",
        "#test10.show()"
      ],
      "execution_count": 90,
      "outputs": []
    },
    {
      "cell_type": "markdown",
      "metadata": {
        "id": "SbrgIFshFyeI"
      },
      "source": [
        "# **Feature ingeneering**"
      ]
    },
    {
      "cell_type": "code",
      "metadata": {
        "id": "byKblaxGKcrD",
        "colab": {
          "base_uri": "https://localhost:8080/"
        },
        "outputId": "f6051185-02ce-41e7-8a1e-544b3f58639d"
      },
      "source": [
        "joi = joi.withColumn('prev_period_lat', lag('latitude', 1).over(Window.orderBy(\"traject_id\").partitionBy(\"traject_id\"))) \\\n",
        "                .withColumn('prev_period_long', lag('longitude', 1).over(Window.orderBy(\"traject_id\").partitionBy(\"traject_id\"))) \\\n",
        "                .withColumn('prev_period_alt', lag('altitude', 1).over(Window.orderBy(\"traject_id\").partitionBy(\"traject_id\"))) \\\n",
        "                .withColumn('prev_period_td', lag('date_timestamp', 1).over(Window.orderBy(\"traject_id\").partitionBy(\"traject_id\"))).na.drop() \n",
        "\n",
        "joi.show()"
      ],
      "execution_count": 91,
      "outputs": [
        {
          "output_type": "stream",
          "text": [
            "+---------+----------+--------+-------------------+--------------+----+----+----------+---------------+----------------+---------------+--------------+\n",
            "| latitude| longitude|altitude|           timedate|date_timestamp|mode|user|traject_id|prev_period_lat|prev_period_long|prev_period_alt|prev_period_td|\n",
            "+---------+----------+--------+-------------------+--------------+----+----+----------+---------------+----------------+---------------+--------------+\n",
            "| 40.04533|116.290971|   182.0|2008-08-20 07:51:12| 1.219218672E9| bus| 064|        31|      40.045226|      116.291025|          183.0|  1.21921867E9|\n",
            "|40.045447|116.290935|   182.0|2008-08-20 07:51:14| 1.219218674E9| bus| 064|        31|       40.04533|      116.290971|          182.0| 1.219218672E9|\n",
            "|40.045603|116.290924|   182.0|2008-08-20 07:51:16| 1.219218676E9| bus| 064|        31|      40.045447|      116.290935|          182.0| 1.219218674E9|\n",
            "|40.045742|116.290905|   181.0|2008-08-20 07:51:18| 1.219218678E9| bus| 064|        31|      40.045603|      116.290924|          182.0| 1.219218676E9|\n",
            "|40.045872|116.290866|   181.0|2008-08-20 07:51:20|  1.21921868E9| bus| 064|        31|      40.045742|      116.290905|          181.0| 1.219218678E9|\n",
            "|40.045982|116.290825|   181.0|2008-08-20 07:51:22| 1.219218682E9| bus| 064|        31|      40.045872|      116.290866|          181.0|  1.21921868E9|\n",
            "|40.046079|116.290789|   181.0|2008-08-20 07:51:24| 1.219218684E9| bus| 064|        31|      40.045982|      116.290825|          181.0| 1.219218682E9|\n",
            "|40.046184|116.290752|   182.0|2008-08-20 07:51:26| 1.219218686E9| bus| 064|        31|      40.046079|      116.290789|          181.0| 1.219218684E9|\n",
            "|40.046304|116.290705|   181.0|2008-08-20 07:51:28| 1.219218688E9| bus| 064|        31|      40.046184|      116.290752|          182.0| 1.219218686E9|\n",
            "|40.046428|116.290668|   182.0|2008-08-20 07:51:30|  1.21921869E9| bus| 064|        31|      40.046304|      116.290705|          181.0| 1.219218688E9|\n",
            "|40.046555|116.290642|   184.0|2008-08-20 07:51:32| 1.219218692E9| bus| 064|        31|      40.046428|      116.290668|          182.0|  1.21921869E9|\n",
            "|40.046667| 116.29063|   188.0|2008-08-20 07:51:34| 1.219218694E9| bus| 064|        31|      40.046555|      116.290642|          184.0| 1.219218692E9|\n",
            "| 40.04675|116.290602|   193.0|2008-08-20 07:51:36| 1.219218696E9| bus| 064|        31|      40.046667|       116.29063|          188.0| 1.219218694E9|\n",
            "|40.046778|116.290609|   201.0|2008-08-20 07:51:38| 1.219218698E9| bus| 064|        31|       40.04675|      116.290602|          193.0| 1.219218696E9|\n",
            "|40.046776|116.290658|   216.0|2008-08-20 07:51:40|   1.2192187E9| bus| 064|        31|      40.046778|      116.290609|          201.0| 1.219218698E9|\n",
            "|40.046843|116.290646|   225.0|2008-08-20 07:51:42| 1.219218702E9| bus| 064|        31|      40.046776|      116.290658|          216.0|   1.2192187E9|\n",
            "| 40.04697|116.290591|   229.0|2008-08-20 07:51:44| 1.219218704E9| bus| 064|        31|      40.046843|      116.290646|          225.0| 1.219218702E9|\n",
            "|40.047135|116.290501|   225.0|2008-08-20 07:51:46| 1.219218706E9| bus| 064|        31|       40.04697|      116.290591|          229.0| 1.219218704E9|\n",
            "|40.047274|116.290436|   227.0|2008-08-20 07:51:48| 1.219218708E9| bus| 064|        31|      40.047135|      116.290501|          225.0| 1.219218706E9|\n",
            "|40.047451|116.290329|   222.0|2008-08-20 07:51:50|  1.21921871E9| bus| 064|        31|      40.047274|      116.290436|          227.0| 1.219218708E9|\n",
            "+---------+----------+--------+-------------------+--------------+----+----+----------+---------------+----------------+---------------+--------------+\n",
            "only showing top 20 rows\n",
            "\n"
          ],
          "name": "stdout"
        }
      ]
    },
    {
      "cell_type": "code",
      "metadata": {
        "id": "_69l6h1-qGG9",
        "colab": {
          "base_uri": "https://localhost:8080/"
        },
        "outputId": "6c628069-513e-4c18-9c9a-30acd4614d53"
      },
      "source": [
        "! pip install haversine\n",
        "from haversine import haversine, Unit\n",
        "\n",
        "def distance (la1, lo1, la2, lo2) : \n",
        "  point1 = (la1, lo1)\n",
        "  point2 = (la2, lo2)\n",
        "  return haversine(point1, point2)\n",
        "\n",
        "udfdistance = udf(lambda x1, y1, x2, y2:distance(x1, y1, x2, y2), DoubleType())"
      ],
      "execution_count": 92,
      "outputs": [
        {
          "output_type": "stream",
          "text": [
            "Requirement already satisfied: haversine in /usr/local/lib/python3.6/dist-packages (2.3.0)\n"
          ],
          "name": "stdout"
        }
      ]
    },
    {
      "cell_type": "code",
      "metadata": {
        "id": "KYlMfVvgrOQf"
      },
      "source": [
        "joi = joi.withColumn('dist', udfdistance('prev_period_lat', 'prev_period_long', 'latitude', 'longitude')) \\\n",
        "      .withColumn('delta_t', col('date_timestamp') - col('prev_period_td')) \\\n",
        "      .withColumn('velocity', col('dist') / col('delta_t')) \\\n",
        "      .drop('latitude', 'longitude', 'timedate', 'date_timestamp', 'prev_period_lat', 'prev_period_long', 'prev_period_alt', 'prev_period_td', 'delta_t')\n",
        "\n"
      ],
      "execution_count": 93,
      "outputs": []
    },
    {
      "cell_type": "code",
      "metadata": {
        "colab": {
          "base_uri": "https://localhost:8080/"
        },
        "id": "-AfGHwwkMa2r",
        "outputId": "44d51b37-4535-43b4-bee5-5971b84ddffe"
      },
      "source": [
        "joi.show()"
      ],
      "execution_count": 94,
      "outputs": [
        {
          "output_type": "stream",
          "text": [
            "+--------+----+----+----------+--------------------+--------------------+\n",
            "|altitude|mode|user|traject_id|                dist|            velocity|\n",
            "+--------+----+----+----------+--------------------+--------------------+\n",
            "|   182.0| bus| 064|        31|0.012444368662029982|0.006222184331014991|\n",
            "|   182.0| bus| 064|        31| 0.01336586733725195|0.006682933668625975|\n",
            "|   182.0| bus| 064|        31|0.017371686430085225|0.008685843215042613|\n",
            "|   181.0| bus| 064|        31|0.015540506049884157|0.007770253024942078|\n",
            "|   181.0| bus| 064|        31|  0.0148316738747519| 0.00741583693737595|\n",
            "|   181.0| bus| 064|        31| 0.01271963051462853|0.006359815257314265|\n",
            "|   181.0| bus| 064|        31|0.011212797709876782|0.005606398854938391|\n",
            "|   182.0| bus| 064|        31|0.012092830008644582|0.006046415004322291|\n",
            "|   181.0| bus| 064|        31|0.013930279979849516|0.006965139989924758|\n",
            "|   182.0| bus| 064|        31| 0.01414332840102037|0.007071664200510185|\n",
            "|   184.0| bus| 064|        31|0.014294149324245846|0.007147074662122923|\n",
            "|   188.0| bus| 064|        31|0.012495669175975705|0.006247834587987853|\n",
            "|   193.0| bus| 064|        31|0.009531980951643738|0.004765990475821869|\n",
            "|   201.0| bus| 064|        31|0.003169966753848977|0.001584983376924...|\n",
            "|   216.0| bus| 064|        31|0.004176902150785331|0.002088451075392...|\n",
            "|   225.0| bus| 064|        31|0.007519769685319...|0.003759884842659...|\n",
            "|   229.0| bus| 064|        31|0.014877595759995449|0.007438797879997...|\n",
            "|   225.0| bus| 064|        31|0.019882390333452807|0.009941195166726403|\n",
            "|   227.0| bus| 064|        31| 0.01641659072975755|0.008208295364878776|\n",
            "|   222.0| bus| 064|        31| 0.02168681163257198| 0.01084340581628599|\n",
            "+--------+----+----+----------+--------------------+--------------------+\n",
            "only showing top 20 rows\n",
            "\n"
          ],
          "name": "stdout"
        }
      ]
    },
    {
      "cell_type": "markdown",
      "metadata": {
        "id": "S1xb6tyjF7Iz"
      },
      "source": [
        "# **Data split and normalization**"
      ]
    },
    {
      "cell_type": "code",
      "metadata": {
        "colab": {
          "base_uri": "https://localhost:8080/"
        },
        "id": "6eg5_I3u6naT",
        "outputId": "4943eea2-2c17-496f-8760-095d88fcd22e"
      },
      "source": [
        "trainDF, testDF = joi.randomSplit([0.8, 0.2], seed=42)\n",
        "print(trainDF.cache().count()) # Cache because accessing training data multiple times\n",
        "print(testDF.count())"
      ],
      "execution_count": 95,
      "outputs": [
        {
          "output_type": "stream",
          "text": [
            "30072\n",
            "7542\n"
          ],
          "name": "stdout"
        }
      ]
    },
    {
      "cell_type": "code",
      "metadata": {
        "id": "3TUFWb8R6nRs"
      },
      "source": [
        "from pyspark.ml.feature import StringIndexer\n",
        "\n",
        "labelToIndex = StringIndexer(inputCol=\"mode\", outputCol=\"label\")\n"
      ],
      "execution_count": 96,
      "outputs": []
    },
    {
      "cell_type": "code",
      "metadata": {
        "id": "07lCamNuNAKJ",
        "colab": {
          "base_uri": "https://localhost:8080/"
        },
        "outputId": "1d67cd5e-97b7-4f56-93b4-d31eab4c75fb"
      },
      "source": [
        "from pyspark.ml.feature import VectorAssembler\n",
        "\n",
        "# This includes both the numeric columns and the one-hot encoded binary vector columns in our dataset.\n",
        "numericCols = [\"dist\", \"velocity\", \"altitude\"]\n",
        "assemblerInputs =  numericCols\n",
        "vecAssembler = VectorAssembler(outputCol=\"features\")\n",
        "vecAssembler.setInputCols(numericCols)"
      ],
      "execution_count": 97,
      "outputs": [
        {
          "output_type": "execute_result",
          "data": {
            "text/plain": [
              "VectorAssembler_bb320c320191"
            ]
          },
          "metadata": {
            "tags": []
          },
          "execution_count": 97
        }
      ]
    },
    {
      "cell_type": "code",
      "metadata": {
        "colab": {
          "base_uri": "https://localhost:8080/"
        },
        "id": "YIHmz7ldQ_Pv",
        "outputId": "5efa7315-9bf6-4079-fefc-bb2ed13033e7"
      },
      "source": [
        "vecAssembler.transform(trainDF).head().features"
      ],
      "execution_count": 98,
      "outputs": [
        {
          "output_type": "execute_result",
          "data": {
            "text/plain": [
              "DenseVector([0.0358, 0.0179, 87.0])"
            ]
          },
          "metadata": {
            "tags": []
          },
          "execution_count": 98
        }
      ]
    },
    {
      "cell_type": "markdown",
      "metadata": {
        "id": "TgG5K-sqb_u4"
      },
      "source": [
        "#**Running Logistic Model as Multiclass Classification Tool**\n"
      ]
    },
    {
      "cell_type": "code",
      "metadata": {
        "id": "6oDznAsREveQ"
      },
      "source": [
        "from pyspark.ml.classification import LogisticRegression\n",
        "\n",
        "lr = LogisticRegression(featuresCol=\"features\", labelCol=\"label\", regParam=1.0)"
      ],
      "execution_count": 99,
      "outputs": []
    },
    {
      "cell_type": "code",
      "metadata": {
        "id": "U68-g_YhM7aL"
      },
      "source": [
        "from pyspark.ml import Pipeline\n",
        "\n",
        "# Define the pipeline based on the stages created in previous steps.\n",
        "pipeline = Pipeline(stages=[labelToIndex, vecAssembler.setParams(handleInvalid=\"skip\"), lr])\n",
        "\n",
        "# Define the pipeline model.\n",
        "pipelineModel = pipeline.fit(trainDF)\n",
        "\n",
        "# Apply the pipeline model to the test dataset.\n",
        "predDF = pipelineModel.transform(testDF)"
      ],
      "execution_count": 100,
      "outputs": []
    },
    {
      "cell_type": "code",
      "metadata": {
        "colab": {
          "base_uri": "https://localhost:8080/"
        },
        "id": "_BFRMdhXM7QK",
        "outputId": "cb20d61b-3bd2-4915-b584-0ca1b813147d"
      },
      "source": [
        "predDF.select(\"features\", \"label\", \"prediction\", \"probability\").show()"
      ],
      "execution_count": 101,
      "outputs": [
        {
          "output_type": "stream",
          "text": [
            "+--------------------+-----+----------+--------------------+\n",
            "|            features|label|prediction|         probability|\n",
            "+--------------------+-----+----------+--------------------+\n",
            "|[0.03528404321834...|  0.0|       0.0|[0.57935227321187...|\n",
            "|[0.03748638555547...|  0.0|       0.0|[0.59485349109513...|\n",
            "|[0.03769135536379...|  0.0|       0.0|[0.59628946901424...|\n",
            "|[0.03304485955598...|  0.0|       0.0|[0.56351007867173...|\n",
            "|[0.03448348778162...|  0.0|       0.0|[0.57374096459849...|\n",
            "|[0.01755555834966...|  0.0|       0.0|[0.45140029767151...|\n",
            "|[0.02233139132480...|  0.0|       0.0|[0.48604858303953...|\n",
            "|[0.03891646186345...|  0.0|       0.0|[0.60482882783627...|\n",
            "|[0.01606323814569...|  0.0|       0.0|[0.44064678919543...|\n",
            "|[0.01644624621099...|  0.0|       0.0|[0.44340927933177...|\n",
            "|[0.00685321432775...|  0.0|       0.0|[0.37571566438903...|\n",
            "|     [0.0,0.0,104.0]|  0.0|       1.0|[0.32988313633215...|\n",
            "|[4.20114484625496...|  0.0|       1.0|[0.33261527944487...|\n",
            "|[0.01941322017564...|  0.0|       0.0|[0.46487029605054...|\n",
            "|[0.02922343003943...|  0.0|       0.0|[0.53611616585775...|\n",
            "|[0.03657298206829...|  0.0|       0.0|[0.58852978146196...|\n",
            "|     [0.0,0.0,105.0]|  0.0|       1.0|[0.32988711149691...|\n",
            "|[0.00200332084401...|  0.0|       1.0|[0.34301219241113...|\n",
            "|[0.03072818657816...|  0.0|       0.0|[0.54697021334499...|\n",
            "|[0.03611364125570...|  0.0|       0.0|[0.58531048125736...|\n",
            "+--------------------+-----+----------+--------------------+\n",
            "only showing top 20 rows\n",
            "\n"
          ],
          "name": "stdout"
        }
      ]
    },
    {
      "cell_type": "code",
      "metadata": {
        "colab": {
          "base_uri": "https://localhost:8080/"
        },
        "id": "5jhiUxthXIJQ",
        "outputId": "9f17b80b-4c20-402b-fc04-fcb321561596"
      },
      "source": [
        "from pyspark.ml.evaluation import MulticlassClassificationEvaluator\n",
        "\n",
        "mcEvaluator = MulticlassClassificationEvaluator(metricName=\"accuracy\")\n",
        "print(f\"Accuracy: {mcEvaluator.evaluate(predDF)}\")\n",
        "\n",
        "mcEvaluator = MulticlassClassificationEvaluator(metricName=\"f1\")\n",
        "print(f\"F1-score: {mcEvaluator.evaluate(predDF)}\")\n"
      ],
      "execution_count": 102,
      "outputs": [
        {
          "output_type": "stream",
          "text": [
            "Accuracy: 0.6100503845133917\n",
            "F1-score: 0.5227435722133764\n"
          ],
          "name": "stdout"
        }
      ]
    },
    {
      "cell_type": "markdown",
      "metadata": {
        "id": "oEoDIQ-DbSsZ"
      },
      "source": [
        "#**Running Random Forest as Multiclass Classification Tool**"
      ]
    },
    {
      "cell_type": "code",
      "metadata": {
        "id": "w6QMcnHyX9d5"
      },
      "source": [
        "from pyspark.ml.classification import RandomForestClassifier\n",
        "rf = RandomForestClassifier(labelCol=\"label\", \\\n",
        "                            featuresCol=\"features\", \\\n",
        "                            numTrees = 100, \\\n",
        "                            maxDepth = 4, \\\n",
        "                            maxBins = 32)"
      ],
      "execution_count": 103,
      "outputs": []
    },
    {
      "cell_type": "code",
      "metadata": {
        "colab": {
          "base_uri": "https://localhost:8080/"
        },
        "id": "XqtPAFlHYbnE",
        "outputId": "15ad19bf-b489-4abe-a2f6-004e4a3fdb9a"
      },
      "source": [
        "# Define the pipeline based on the stages created in previous steps.\n",
        "pipeline_rf = Pipeline(stages=[labelToIndex, vecAssembler.setParams(handleInvalid=\"skip\"), rf])\n",
        "\n",
        "# Define the pipeline model.\n",
        "pipelineModel_rf = pipeline_rf.fit(trainDF)\n",
        "\n",
        "# Apply the pipeline model to the test dataset.\n",
        "predDF_rf = pipelineModel_rf.transform(testDF)\n",
        "\n",
        "predDF_rf.select(\"features\", \"label\", \"prediction\", \"probability\").show()"
      ],
      "execution_count": 104,
      "outputs": [
        {
          "output_type": "stream",
          "text": [
            "+--------------------+-----+----------+--------------------+\n",
            "|            features|label|prediction|         probability|\n",
            "+--------------------+-----+----------+--------------------+\n",
            "|[0.03528404321834...|  0.0|       0.0|[0.91765971693057...|\n",
            "|[0.03748638555547...|  0.0|       0.0|[0.91765971693057...|\n",
            "|[0.03769135536379...|  0.0|       0.0|[0.91765971693057...|\n",
            "|[0.03304485955598...|  0.0|       0.0|[0.91765971693057...|\n",
            "|[0.03448348778162...|  0.0|       0.0|[0.91765971693057...|\n",
            "|[0.01755555834966...|  0.0|       0.0|[0.91488234106959...|\n",
            "|[0.02233139132480...|  0.0|       0.0|[0.91695716788965...|\n",
            "|[0.03891646186345...|  0.0|       0.0|[0.91977356917974...|\n",
            "|[0.01606323814569...|  0.0|       0.0|[0.91488234106959...|\n",
            "|[0.01644624621099...|  0.0|       0.0|[0.91488234106959...|\n",
            "|[0.00685321432775...|  0.0|       2.0|[0.14550197961853...|\n",
            "|     [0.0,0.0,104.0]|  0.0|       1.0|[0.19784992487864...|\n",
            "|[4.20114484625496...|  0.0|       1.0|[0.19784992487864...|\n",
            "|[0.01941322017564...|  0.0|       0.0|[0.91695716788965...|\n",
            "|[0.02922343003943...|  0.0|       0.0|[0.91695716788965...|\n",
            "|[0.03657298206829...|  0.0|       0.0|[0.91765971693057...|\n",
            "|     [0.0,0.0,105.0]|  0.0|       1.0|[0.19784992487864...|\n",
            "|[0.00200332084401...|  0.0|       1.0|[0.19784992487864...|\n",
            "|[0.03072818657816...|  0.0|       0.0|[0.91695716788965...|\n",
            "|[0.03611364125570...|  0.0|       0.0|[0.91765971693057...|\n",
            "+--------------------+-----+----------+--------------------+\n",
            "only showing top 20 rows\n",
            "\n"
          ],
          "name": "stdout"
        }
      ]
    },
    {
      "cell_type": "code",
      "metadata": {
        "colab": {
          "base_uri": "https://localhost:8080/"
        },
        "id": "IIjbrZzmY5_6",
        "outputId": "a9ee4773-9ea2-44df-9cdf-ff8972e76dec"
      },
      "source": [
        "mcEvaluator = MulticlassClassificationEvaluator(metricName=\"accuracy\")\n",
        "print(f\"Accuracy: {mcEvaluator.evaluate(predDF_rf)}\")\n",
        "\n",
        "mcEvaluator = MulticlassClassificationEvaluator(metricName=\"f1\")\n",
        "print(f\"F1-score: {mcEvaluator.evaluate(predDF_rf)}\")\n"
      ],
      "execution_count": 105,
      "outputs": [
        {
          "output_type": "stream",
          "text": [
            "Accuracy: 0.7291169451073986\n",
            "F1-score: 0.7303179792697163\n"
          ],
          "name": "stdout"
        }
      ]
    },
    {
      "cell_type": "markdown",
      "metadata": {
        "id": "DGuFGxozbdk6"
      },
      "source": [
        "# **Model hyperparameters tuning**"
      ]
    },
    {
      "cell_type": "code",
      "metadata": {
        "id": "ksndXTsrY4fy"
      },
      "source": [
        "from pyspark.ml.tuning import ParamGridBuilder, CrossValidator\n",
        "\n",
        "paramGrid = (ParamGridBuilder()\n",
        "             .addGrid(lr.regParam, [0.01, 0.5, 2.0])\n",
        "             .addGrid(lr.elasticNetParam, [0.0, 0.5, 1.0])\n",
        "             .build())"
      ],
      "execution_count": 106,
      "outputs": []
    },
    {
      "cell_type": "code",
      "metadata": {
        "id": "XsQBLueRY4c-"
      },
      "source": [
        "# Create a 3-fold CrossValidator\n",
        "cv = CrossValidator(estimator=pipeline, estimatorParamMaps=paramGrid, evaluator=bcEvaluator, numFolds=3, parallelism = 4)\n",
        "\n",
        "# Run cross validations. This step takes a few minutes and returns the best model found from the cross validation.\n",
        "cvModel = cv.fit(trainDF)"
      ],
      "execution_count": null,
      "outputs": []
    },
    {
      "cell_type": "code",
      "metadata": {
        "id": "tGizhGwkY4Tj"
      },
      "source": [
        "# Use the model identified by the cross-validation to make predictions on the test dataset\n",
        "cvPredDF = cvModel.transform(testDF)\n",
        "\n",
        "mcEvaluator = MulticlassClassificationEvaluator(metricName=\"accuracy\")\n",
        "print(f\"Accuracy: {mcEvaluator.evaluate(cvPredDF)}\")\n",
        "\n",
        "mcEvaluator = MulticlassClassificationEvaluator(metricName=\"f1\")\n",
        "print(f\"F1-score: {mcEvaluator.evaluate(cvPredDF)}\")\n"
      ],
      "execution_count": null,
      "outputs": []
    },
    {
      "cell_type": "code",
      "metadata": {
        "id": "zl7VdLDLYgXm"
      },
      "source": [
        ""
      ],
      "execution_count": null,
      "outputs": []
    },
    {
      "cell_type": "code",
      "metadata": {
        "id": "LMqZUAcqYf9F"
      },
      "source": [
        ""
      ],
      "execution_count": null,
      "outputs": []
    },
    {
      "cell_type": "markdown",
      "metadata": {
        "id": "jxg6CW4OzrrH"
      },
      "source": [
        ""
      ]
    }
  ]
}
